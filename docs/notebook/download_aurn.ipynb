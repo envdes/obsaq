{
 "cells": [
  {
   "cell_type": "markdown",
   "metadata": {},
   "source": [
    "# Obtain the data from AURN"
   ]
  },
  {
   "cell_type": "markdown",
   "metadata": {},
   "source": [
    "## Download data by a bounds of longitude and latitude\n",
    "\n",
    "Users can give a bounds of longitude and latitude to download the station data."
   ]
  },
  {
   "cell_type": "markdown",
   "metadata": {},
   "source": [
    "#### Load the OBSAQ package and Define the range"
   ]
  },
  {
   "cell_type": "code",
   "execution_count": 1,
   "metadata": {},
   "outputs": [],
   "source": [
    "import obsaq\n",
    "\n",
    "lon_min = -1\n",
    "lon_max = 2\n",
    "lat_min = 50\n",
    "lat_max = 55\n",
    "bounds=[lon_min, lon_max, lat_min, lat_max]"
   ]
  },
  {
   "cell_type": "markdown",
   "metadata": {},
   "source": [
    "#### Get the station metadata\n",
    "\n",
    "NOTE: This is the all station information and the next step will choose the stations by bounds."
   ]
  },
  {
   "cell_type": "code",
   "execution_count": 2,
   "metadata": {},
   "outputs": [],
   "source": [
    "meta = obsaq.meta()\n",
    "site_table = meta.get_metadata('aurn')"
   ]
  },
  {
   "cell_type": "markdown",
   "metadata": {},
   "source": [
    "#### Choose the stations by range"
   ]
  },
  {
   "cell_type": "code",
   "execution_count": 3,
   "metadata": {},
   "outputs": [
    {
     "name": "stdout",
     "output_type": "stream",
     "text": [
      "Site is selected by bounds: [-1, 2, 50, 55]\n"
     ]
    },
    {
     "data": {
      "text/html": [
       "<div>\n",
       "<style scoped>\n",
       "    .dataframe tbody tr th:only-of-type {\n",
       "        vertical-align: middle;\n",
       "    }\n",
       "\n",
       "    .dataframe tbody tr th {\n",
       "        vertical-align: top;\n",
       "    }\n",
       "\n",
       "    .dataframe thead th {\n",
       "        text-align: right;\n",
       "    }\n",
       "</style>\n",
       "<table border=\"1\" class=\"dataframe\">\n",
       "  <thead>\n",
       "    <tr style=\"text-align: right;\">\n",
       "      <th></th>\n",
       "      <th>site_id</th>\n",
       "      <th>site_name</th>\n",
       "      <th>location_type</th>\n",
       "      <th>latitude</th>\n",
       "      <th>longitude</th>\n",
       "      <th>parameter</th>\n",
       "      <th>Parameter_name</th>\n",
       "      <th>start_date</th>\n",
       "      <th>end_date</th>\n",
       "      <th>ratified_to</th>\n",
       "      <th>zone</th>\n",
       "      <th>agglomeration</th>\n",
       "      <th>local_authority</th>\n",
       "    </tr>\n",
       "    <tr>\n",
       "      <th>rownames</th>\n",
       "      <th></th>\n",
       "      <th></th>\n",
       "      <th></th>\n",
       "      <th></th>\n",
       "      <th></th>\n",
       "      <th></th>\n",
       "      <th></th>\n",
       "      <th></th>\n",
       "      <th></th>\n",
       "      <th></th>\n",
       "      <th></th>\n",
       "      <th></th>\n",
       "      <th></th>\n",
       "    </tr>\n",
       "  </thead>\n",
       "  <tbody>\n",
       "    <tr>\n",
       "      <th>364</th>\n",
       "      <td>BDMP</td>\n",
       "      <td>Borehamwood Meadow Park</td>\n",
       "      <td>Urban Background</td>\n",
       "      <td>51.662332</td>\n",
       "      <td>-0.270001</td>\n",
       "      <td>NO</td>\n",
       "      <td>Nitric oxide</td>\n",
       "      <td>2017-10-01</td>\n",
       "      <td>ongoing</td>\n",
       "      <td>2023-12-31</td>\n",
       "      <td>Eastern</td>\n",
       "      <td>NaN</td>\n",
       "      <td>Hertsmere</td>\n",
       "    </tr>\n",
       "    <tr>\n",
       "      <th>365</th>\n",
       "      <td>BDMP</td>\n",
       "      <td>Borehamwood Meadow Park</td>\n",
       "      <td>Urban Background</td>\n",
       "      <td>51.662332</td>\n",
       "      <td>-0.270001</td>\n",
       "      <td>NO2</td>\n",
       "      <td>Nitrogen dioxide</td>\n",
       "      <td>2017-10-01</td>\n",
       "      <td>ongoing</td>\n",
       "      <td>2023-12-31</td>\n",
       "      <td>Eastern</td>\n",
       "      <td>NaN</td>\n",
       "      <td>Hertsmere</td>\n",
       "    </tr>\n",
       "    <tr>\n",
       "      <th>366</th>\n",
       "      <td>BDMP</td>\n",
       "      <td>Borehamwood Meadow Park</td>\n",
       "      <td>Urban Background</td>\n",
       "      <td>51.662332</td>\n",
       "      <td>-0.270001</td>\n",
       "      <td>NOXasNO2</td>\n",
       "      <td>Nitrogen oxides as nitrogen dioxide</td>\n",
       "      <td>2017-10-01</td>\n",
       "      <td>ongoing</td>\n",
       "      <td>2023-12-31</td>\n",
       "      <td>Eastern</td>\n",
       "      <td>NaN</td>\n",
       "      <td>Hertsmere</td>\n",
       "    </tr>\n",
       "    <tr>\n",
       "      <th>367</th>\n",
       "      <td>BDMP</td>\n",
       "      <td>Borehamwood Meadow Park</td>\n",
       "      <td>Urban Background</td>\n",
       "      <td>51.662332</td>\n",
       "      <td>-0.270001</td>\n",
       "      <td>PM10</td>\n",
       "      <td>PM10 particulate matter (Hourly measured)</td>\n",
       "      <td>2022-03-22</td>\n",
       "      <td>ongoing</td>\n",
       "      <td>2023-12-31</td>\n",
       "      <td>Eastern</td>\n",
       "      <td>NaN</td>\n",
       "      <td>Hertsmere</td>\n",
       "    </tr>\n",
       "    <tr>\n",
       "      <th>368</th>\n",
       "      <td>BDMP</td>\n",
       "      <td>Borehamwood Meadow Park</td>\n",
       "      <td>Urban Background</td>\n",
       "      <td>51.662332</td>\n",
       "      <td>-0.270001</td>\n",
       "      <td>PM2.5</td>\n",
       "      <td>PM2.5 particulate matter (Hourly measured)</td>\n",
       "      <td>2022-03-22</td>\n",
       "      <td>ongoing</td>\n",
       "      <td>2023-12-31</td>\n",
       "      <td>Eastern</td>\n",
       "      <td>NaN</td>\n",
       "      <td>Hertsmere</td>\n",
       "    </tr>\n",
       "  </tbody>\n",
       "</table>\n",
       "</div>"
      ],
      "text/plain": [
       "         site_id                site_name     location_type   latitude  \\\n",
       "rownames                                                                 \n",
       "364         BDMP  Borehamwood Meadow Park  Urban Background  51.662332   \n",
       "365         BDMP  Borehamwood Meadow Park  Urban Background  51.662332   \n",
       "366         BDMP  Borehamwood Meadow Park  Urban Background  51.662332   \n",
       "367         BDMP  Borehamwood Meadow Park  Urban Background  51.662332   \n",
       "368         BDMP  Borehamwood Meadow Park  Urban Background  51.662332   \n",
       "\n",
       "          longitude parameter                              Parameter_name  \\\n",
       "rownames                                                                    \n",
       "364       -0.270001        NO                                Nitric oxide   \n",
       "365       -0.270001       NO2                            Nitrogen dioxide   \n",
       "366       -0.270001  NOXasNO2         Nitrogen oxides as nitrogen dioxide   \n",
       "367       -0.270001      PM10   PM10 particulate matter (Hourly measured)   \n",
       "368       -0.270001     PM2.5  PM2.5 particulate matter (Hourly measured)   \n",
       "\n",
       "          start_date end_date ratified_to     zone agglomeration  \\\n",
       "rownames                                                           \n",
       "364       2017-10-01  ongoing  2023-12-31  Eastern           NaN   \n",
       "365       2017-10-01  ongoing  2023-12-31  Eastern           NaN   \n",
       "366       2017-10-01  ongoing  2023-12-31  Eastern           NaN   \n",
       "367       2022-03-22  ongoing  2023-12-31  Eastern           NaN   \n",
       "368       2022-03-22  ongoing  2023-12-31  Eastern           NaN   \n",
       "\n",
       "         local_authority  \n",
       "rownames                  \n",
       "364            Hertsmere  \n",
       "365            Hertsmere  \n",
       "366            Hertsmere  \n",
       "367            Hertsmere  \n",
       "368            Hertsmere  "
      ]
     },
     "execution_count": 3,
     "metadata": {},
     "output_type": "execute_result"
    }
   ],
   "source": [
    "final_sites = meta.get_site(bounds=bounds)\n",
    "final_sites.head(5)"
   ]
  },
  {
   "cell_type": "markdown",
   "metadata": {},
   "source": [
    "#### Start to download the selected station data\n",
    "\n",
    "- `year`: the year of data to be downloaded. Defaults to 2010.\n",
    "- `output_dir`: the directory to save the downloaded data. Defaults to `metadata/prep_obs_data`.\n",
    "- `log`: whether to print the log. Defaults to `False`."
   ]
  },
  {
   "cell_type": "code",
   "execution_count": 4,
   "metadata": {},
   "outputs": [
    {
     "name": "stdout",
     "output_type": "stream",
     "text": [
      "Data has downloaded successfully. URL: https://uk-air.defra.gov.uk/data_files/site_data/BEX_2010.csv\n",
      "Data has downloaded successfully. URL: https://uk-air.defra.gov.uk/data_files/site_data/BOT_2010.csv\n",
      "Data has downloaded successfully. URL: https://uk-air.defra.gov.uk/data_files/site_data/BRIT_2010.csv\n",
      "Data has downloaded successfully. URL: https://uk-air.defra.gov.uk/data_files/site_data/BRT3_2010.csv\n",
      "Data has downloaded successfully. URL: https://uk-air.defra.gov.uk/data_files/site_data/CA1_2010.csv\n",
      "Data has downloaded successfully. URL: https://uk-air.defra.gov.uk/data_files/site_data/CAM_2010.csv\n",
      "Data has downloaded successfully. URL: https://uk-air.defra.gov.uk/data_files/site_data/CANT_2010.csv\n",
      "Data has downloaded successfully. URL: https://uk-air.defra.gov.uk/data_files/site_data/CHAT_2010.csv\n",
      "Data has downloaded successfully. URL: https://uk-air.defra.gov.uk/data_files/site_data/CLL2_2010.csv\n",
      "Data has downloaded successfully. URL: https://uk-air.defra.gov.uk/data_files/site_data/CRD2_2010.csv\n",
      "Data has downloaded successfully. URL: https://uk-air.defra.gov.uk/data_files/site_data/EB_2010.csv\n",
      "Data has downloaded successfully. URL: https://uk-air.defra.gov.uk/data_files/site_data/HG1_2010.csv\n",
      "Data has downloaded successfully. URL: https://uk-air.defra.gov.uk/data_files/site_data/HG2_2010.csv\n",
      "Data has downloaded successfully. URL: https://uk-air.defra.gov.uk/data_files/site_data/HIL_2010.csv\n",
      "Data has downloaded successfully. URL: https://uk-air.defra.gov.uk/data_files/site_data/HM_2010.csv\n",
      "Data has downloaded successfully. URL: https://uk-air.defra.gov.uk/data_files/site_data/HOPE_2010.csv\n",
      "Data has downloaded successfully. URL: https://uk-air.defra.gov.uk/data_files/site_data/HORE_2010.csv\n",
      "Data has downloaded successfully. URL: https://uk-air.defra.gov.uk/data_files/site_data/HORS_2010.csv\n",
      "Data has downloaded successfully. URL: https://uk-air.defra.gov.uk/data_files/site_data/HR3_2010.csv\n",
      "Data has downloaded successfully. URL: https://uk-air.defra.gov.uk/data_files/site_data/HRL_2010.csv\n",
      "Data has downloaded successfully. URL: https://uk-air.defra.gov.uk/data_files/site_data/HUL2_2010.csv\n",
      "Data has downloaded successfully. URL: https://uk-air.defra.gov.uk/data_files/site_data/KC1_2010.csv\n",
      "Data has downloaded successfully. URL: https://uk-air.defra.gov.uk/data_files/site_data/LH_2010.csv\n",
      "Data has downloaded successfully. URL: https://uk-air.defra.gov.uk/data_files/site_data/LON6_2010.csv\n",
      "Data has downloaded successfully. URL: https://uk-air.defra.gov.uk/data_files/site_data/MKTH_2010.csv\n",
      "Data has downloaded successfully. URL: https://uk-air.defra.gov.uk/data_files/site_data/MY1_2010.csv\n",
      "Data has downloaded successfully. URL: https://uk-air.defra.gov.uk/data_files/site_data/NO12_2010.csv\n",
      "Data has downloaded successfully. URL: https://uk-air.defra.gov.uk/data_files/site_data/NTON_2010.csv\n",
      "Data has downloaded successfully. URL: https://uk-air.defra.gov.uk/data_files/site_data/OSY_2010.csv\n",
      "Data has downloaded successfully. URL: https://uk-air.defra.gov.uk/data_files/site_data/REA1_2010.csv\n",
      "Data has downloaded successfully. URL: https://uk-air.defra.gov.uk/data_files/site_data/ROCH_2010.csv\n",
      "Data has downloaded successfully. URL: https://uk-air.defra.gov.uk/data_files/site_data/SCN2_2010.csv\n",
      "Data has downloaded successfully. URL: https://uk-air.defra.gov.uk/data_files/site_data/SDY_2010.csv\n",
      "Data has downloaded successfully. URL: https://uk-air.defra.gov.uk/data_files/site_data/SEND_2010.csv\n",
      "Data has downloaded successfully. URL: https://uk-air.defra.gov.uk/data_files/site_data/SIB_2010.csv\n",
      "Data has downloaded successfully. URL: https://uk-air.defra.gov.uk/data_files/site_data/SK5_2010.csv\n",
      "Data has downloaded successfully. URL: https://uk-air.defra.gov.uk/data_files/site_data/STOR_2010.csv\n",
      "Data has downloaded successfully. URL: https://uk-air.defra.gov.uk/data_files/site_data/TED_2010.csv\n",
      "Data has downloaded successfully. URL: https://uk-air.defra.gov.uk/data_files/site_data/TH2_2010.csv\n",
      "Data has downloaded successfully. URL: https://uk-air.defra.gov.uk/data_files/site_data/THUR_2010.csv\n",
      "Data has downloaded successfully. URL: https://uk-air.defra.gov.uk/data_files/site_data/WEYB_2010.csv\n",
      "Data has downloaded successfully. URL: https://uk-air.defra.gov.uk/data_files/site_data/WFEN_2010.csv\n"
     ]
    }
   ],
   "source": [
    "meta.download_sites('aurn', year=2010, output_dir='metadata/prep_obs_data', log=False)"
   ]
  },
  {
   "cell_type": "markdown",
   "metadata": {},
   "source": [
    "## Download data by a point of longitude and latitude\n",
    "\n",
    "Users can give a point of longitude and latitude to download the station data."
   ]
  },
  {
   "cell_type": "markdown",
   "metadata": {},
   "source": [
    "### Load the obsaq package and Define the point"
   ]
  },
  {
   "cell_type": "code",
   "execution_count": 5,
   "metadata": {},
   "outputs": [],
   "source": [
    "import obsaq\n",
    "\n",
    "lon = 0.0\n",
    "lat = 55.0\n",
    "point = [lon, lat]"
   ]
  },
  {
   "cell_type": "markdown",
   "metadata": {},
   "source": [
    "### Get the station metadata\n",
    "\n",
    "NOTE: This is the all station information and the next step will choose the stations by point."
   ]
  },
  {
   "cell_type": "code",
   "execution_count": 6,
   "metadata": {},
   "outputs": [
    {
     "data": {
      "text/html": [
       "<div>\n",
       "<style scoped>\n",
       "    .dataframe tbody tr th:only-of-type {\n",
       "        vertical-align: middle;\n",
       "    }\n",
       "\n",
       "    .dataframe tbody tr th {\n",
       "        vertical-align: top;\n",
       "    }\n",
       "\n",
       "    .dataframe thead th {\n",
       "        text-align: right;\n",
       "    }\n",
       "</style>\n",
       "<table border=\"1\" class=\"dataframe\">\n",
       "  <thead>\n",
       "    <tr style=\"text-align: right;\">\n",
       "      <th></th>\n",
       "      <th>site_id</th>\n",
       "      <th>site_name</th>\n",
       "      <th>location_type</th>\n",
       "      <th>latitude</th>\n",
       "      <th>longitude</th>\n",
       "      <th>parameter</th>\n",
       "      <th>Parameter_name</th>\n",
       "      <th>start_date</th>\n",
       "      <th>end_date</th>\n",
       "      <th>ratified_to</th>\n",
       "      <th>zone</th>\n",
       "      <th>agglomeration</th>\n",
       "      <th>local_authority</th>\n",
       "    </tr>\n",
       "    <tr>\n",
       "      <th>rownames</th>\n",
       "      <th></th>\n",
       "      <th></th>\n",
       "      <th></th>\n",
       "      <th></th>\n",
       "      <th></th>\n",
       "      <th></th>\n",
       "      <th></th>\n",
       "      <th></th>\n",
       "      <th></th>\n",
       "      <th></th>\n",
       "      <th></th>\n",
       "      <th></th>\n",
       "      <th></th>\n",
       "    </tr>\n",
       "  </thead>\n",
       "  <tbody>\n",
       "    <tr>\n",
       "      <th>1</th>\n",
       "      <td>ABD</td>\n",
       "      <td>Aberdeen</td>\n",
       "      <td>Urban Background</td>\n",
       "      <td>57.15736</td>\n",
       "      <td>-2.094278</td>\n",
       "      <td>O3</td>\n",
       "      <td>Ozone</td>\n",
       "      <td>2003-08-01</td>\n",
       "      <td>2021-09-20</td>\n",
       "      <td>2021-09-20</td>\n",
       "      <td>North East Scotland</td>\n",
       "      <td>NaN</td>\n",
       "      <td>Aberdeen City</td>\n",
       "    </tr>\n",
       "    <tr>\n",
       "      <th>2</th>\n",
       "      <td>ABD</td>\n",
       "      <td>Aberdeen</td>\n",
       "      <td>Urban Background</td>\n",
       "      <td>57.15736</td>\n",
       "      <td>-2.094278</td>\n",
       "      <td>NO</td>\n",
       "      <td>Nitric oxide</td>\n",
       "      <td>1999-09-18</td>\n",
       "      <td>2021-09-20</td>\n",
       "      <td>2021-09-20</td>\n",
       "      <td>North East Scotland</td>\n",
       "      <td>NaN</td>\n",
       "      <td>Aberdeen City</td>\n",
       "    </tr>\n",
       "    <tr>\n",
       "      <th>3</th>\n",
       "      <td>ABD</td>\n",
       "      <td>Aberdeen</td>\n",
       "      <td>Urban Background</td>\n",
       "      <td>57.15736</td>\n",
       "      <td>-2.094278</td>\n",
       "      <td>NO2</td>\n",
       "      <td>Nitrogen dioxide</td>\n",
       "      <td>1999-09-18</td>\n",
       "      <td>2021-09-20</td>\n",
       "      <td>2021-09-20</td>\n",
       "      <td>North East Scotland</td>\n",
       "      <td>NaN</td>\n",
       "      <td>Aberdeen City</td>\n",
       "    </tr>\n",
       "    <tr>\n",
       "      <th>4</th>\n",
       "      <td>ABD</td>\n",
       "      <td>Aberdeen</td>\n",
       "      <td>Urban Background</td>\n",
       "      <td>57.15736</td>\n",
       "      <td>-2.094278</td>\n",
       "      <td>NOXasNO2</td>\n",
       "      <td>Nitrogen oxides as nitrogen dioxide</td>\n",
       "      <td>1999-09-18</td>\n",
       "      <td>2021-09-20</td>\n",
       "      <td>2021-09-20</td>\n",
       "      <td>North East Scotland</td>\n",
       "      <td>NaN</td>\n",
       "      <td>Aberdeen City</td>\n",
       "    </tr>\n",
       "    <tr>\n",
       "      <th>5</th>\n",
       "      <td>ABD</td>\n",
       "      <td>Aberdeen</td>\n",
       "      <td>Urban Background</td>\n",
       "      <td>57.15736</td>\n",
       "      <td>-2.094278</td>\n",
       "      <td>SO2</td>\n",
       "      <td>Sulphur dioxide</td>\n",
       "      <td>2001-01-01</td>\n",
       "      <td>2007-09-30</td>\n",
       "      <td>2007-09-30</td>\n",
       "      <td>North East Scotland</td>\n",
       "      <td>NaN</td>\n",
       "      <td>Aberdeen City</td>\n",
       "    </tr>\n",
       "  </tbody>\n",
       "</table>\n",
       "</div>"
      ],
      "text/plain": [
       "         site_id site_name     location_type  latitude  longitude parameter  \\\n",
       "rownames                                                                      \n",
       "1            ABD  Aberdeen  Urban Background  57.15736  -2.094278        O3   \n",
       "2            ABD  Aberdeen  Urban Background  57.15736  -2.094278        NO   \n",
       "3            ABD  Aberdeen  Urban Background  57.15736  -2.094278       NO2   \n",
       "4            ABD  Aberdeen  Urban Background  57.15736  -2.094278  NOXasNO2   \n",
       "5            ABD  Aberdeen  Urban Background  57.15736  -2.094278       SO2   \n",
       "\n",
       "                               Parameter_name  start_date    end_date  \\\n",
       "rownames                                                                \n",
       "1                                       Ozone  2003-08-01  2021-09-20   \n",
       "2                                Nitric oxide  1999-09-18  2021-09-20   \n",
       "3                            Nitrogen dioxide  1999-09-18  2021-09-20   \n",
       "4         Nitrogen oxides as nitrogen dioxide  1999-09-18  2021-09-20   \n",
       "5                             Sulphur dioxide  2001-01-01  2007-09-30   \n",
       "\n",
       "         ratified_to                 zone agglomeration local_authority  \n",
       "rownames                                                                 \n",
       "1         2021-09-20  North East Scotland           NaN   Aberdeen City  \n",
       "2         2021-09-20  North East Scotland           NaN   Aberdeen City  \n",
       "3         2021-09-20  North East Scotland           NaN   Aberdeen City  \n",
       "4         2021-09-20  North East Scotland           NaN   Aberdeen City  \n",
       "5         2007-09-30  North East Scotland           NaN   Aberdeen City  "
      ]
     },
     "execution_count": 6,
     "metadata": {},
     "output_type": "execute_result"
    }
   ],
   "source": [
    "meta = obsaq.meta()\n",
    "site_table = meta.get_metadata('aurn')\n",
    "\n",
    "site_table.head(5)"
   ]
  },
  {
   "cell_type": "markdown",
   "metadata": {},
   "source": [
    "### Choose the stations by point"
   ]
  },
  {
   "cell_type": "code",
   "execution_count": 7,
   "metadata": {},
   "outputs": [
    {
     "name": "stdout",
     "output_type": "stream",
     "text": [
      "Site is selected by point: [0.0, 55.0]\n"
     ]
    },
    {
     "data": {
      "text/plain": [
       "site_id                                HM\n",
       "site_name                    High Muffles\n",
       "location_type            Rural Background\n",
       "latitude                        54.334497\n",
       "longitude                        -0.80882\n",
       "parameter                              O3\n",
       "Parameter_name                      Ozone\n",
       "start_date                     1987-07-16\n",
       "end_date                          ongoing\n",
       "ratified_to                    2023-12-31\n",
       "zone               Yorkshire & Humberside\n",
       "agglomeration                         NaN\n",
       "local_authority                   Ryedale\n",
       "Name: 1200, dtype: object"
      ]
     },
     "execution_count": 7,
     "metadata": {},
     "output_type": "execute_result"
    }
   ],
   "source": [
    "final_sites = meta.get_site(point=point)\n",
    "final_sites"
   ]
  },
  {
   "cell_type": "markdown",
   "metadata": {},
   "source": [
    "### Start to download the selected station data"
   ]
  },
  {
   "cell_type": "code",
   "execution_count": 8,
   "metadata": {},
   "outputs": [
    {
     "name": "stdout",
     "output_type": "stream",
     "text": [
      "Data has downloaded successfully. URL: https://uk-air.defra.gov.uk/data_files/site_data/HM_2010.csv\n"
     ]
    }
   ],
   "source": [
    "meta.download_sites('aurn', year=2010, output_dir='data/prep_obs_data', log=False)"
   ]
  },
  {
   "cell_type": "markdown",
   "metadata": {},
   "source": [
    "## Download data by site_id"
   ]
  },
  {
   "cell_type": "markdown",
   "metadata": {},
   "source": [
    "### Load the obsaq package and check the site information"
   ]
  },
  {
   "cell_type": "code",
   "execution_count": 9,
   "metadata": {},
   "outputs": [
    {
     "data": {
      "text/html": [
       "<div>\n",
       "<style scoped>\n",
       "    .dataframe tbody tr th:only-of-type {\n",
       "        vertical-align: middle;\n",
       "    }\n",
       "\n",
       "    .dataframe tbody tr th {\n",
       "        vertical-align: top;\n",
       "    }\n",
       "\n",
       "    .dataframe thead th {\n",
       "        text-align: right;\n",
       "    }\n",
       "</style>\n",
       "<table border=\"1\" class=\"dataframe\">\n",
       "  <thead>\n",
       "    <tr style=\"text-align: right;\">\n",
       "      <th></th>\n",
       "      <th>site_id</th>\n",
       "      <th>site_name</th>\n",
       "      <th>location_type</th>\n",
       "      <th>latitude</th>\n",
       "      <th>longitude</th>\n",
       "      <th>parameter</th>\n",
       "      <th>Parameter_name</th>\n",
       "      <th>start_date</th>\n",
       "      <th>end_date</th>\n",
       "      <th>ratified_to</th>\n",
       "      <th>zone</th>\n",
       "      <th>agglomeration</th>\n",
       "      <th>local_authority</th>\n",
       "    </tr>\n",
       "    <tr>\n",
       "      <th>rownames</th>\n",
       "      <th></th>\n",
       "      <th></th>\n",
       "      <th></th>\n",
       "      <th></th>\n",
       "      <th></th>\n",
       "      <th></th>\n",
       "      <th></th>\n",
       "      <th></th>\n",
       "      <th></th>\n",
       "      <th></th>\n",
       "      <th></th>\n",
       "      <th></th>\n",
       "      <th></th>\n",
       "    </tr>\n",
       "  </thead>\n",
       "  <tbody>\n",
       "    <tr>\n",
       "      <th>1</th>\n",
       "      <td>ABD</td>\n",
       "      <td>Aberdeen</td>\n",
       "      <td>Urban Background</td>\n",
       "      <td>57.15736</td>\n",
       "      <td>-2.094278</td>\n",
       "      <td>O3</td>\n",
       "      <td>Ozone</td>\n",
       "      <td>2003-08-01</td>\n",
       "      <td>2021-09-20</td>\n",
       "      <td>2021-09-20</td>\n",
       "      <td>North East Scotland</td>\n",
       "      <td>NaN</td>\n",
       "      <td>Aberdeen City</td>\n",
       "    </tr>\n",
       "    <tr>\n",
       "      <th>2</th>\n",
       "      <td>ABD</td>\n",
       "      <td>Aberdeen</td>\n",
       "      <td>Urban Background</td>\n",
       "      <td>57.15736</td>\n",
       "      <td>-2.094278</td>\n",
       "      <td>NO</td>\n",
       "      <td>Nitric oxide</td>\n",
       "      <td>1999-09-18</td>\n",
       "      <td>2021-09-20</td>\n",
       "      <td>2021-09-20</td>\n",
       "      <td>North East Scotland</td>\n",
       "      <td>NaN</td>\n",
       "      <td>Aberdeen City</td>\n",
       "    </tr>\n",
       "    <tr>\n",
       "      <th>3</th>\n",
       "      <td>ABD</td>\n",
       "      <td>Aberdeen</td>\n",
       "      <td>Urban Background</td>\n",
       "      <td>57.15736</td>\n",
       "      <td>-2.094278</td>\n",
       "      <td>NO2</td>\n",
       "      <td>Nitrogen dioxide</td>\n",
       "      <td>1999-09-18</td>\n",
       "      <td>2021-09-20</td>\n",
       "      <td>2021-09-20</td>\n",
       "      <td>North East Scotland</td>\n",
       "      <td>NaN</td>\n",
       "      <td>Aberdeen City</td>\n",
       "    </tr>\n",
       "    <tr>\n",
       "      <th>4</th>\n",
       "      <td>ABD</td>\n",
       "      <td>Aberdeen</td>\n",
       "      <td>Urban Background</td>\n",
       "      <td>57.15736</td>\n",
       "      <td>-2.094278</td>\n",
       "      <td>NOXasNO2</td>\n",
       "      <td>Nitrogen oxides as nitrogen dioxide</td>\n",
       "      <td>1999-09-18</td>\n",
       "      <td>2021-09-20</td>\n",
       "      <td>2021-09-20</td>\n",
       "      <td>North East Scotland</td>\n",
       "      <td>NaN</td>\n",
       "      <td>Aberdeen City</td>\n",
       "    </tr>\n",
       "    <tr>\n",
       "      <th>5</th>\n",
       "      <td>ABD</td>\n",
       "      <td>Aberdeen</td>\n",
       "      <td>Urban Background</td>\n",
       "      <td>57.15736</td>\n",
       "      <td>-2.094278</td>\n",
       "      <td>SO2</td>\n",
       "      <td>Sulphur dioxide</td>\n",
       "      <td>2001-01-01</td>\n",
       "      <td>2007-09-30</td>\n",
       "      <td>2007-09-30</td>\n",
       "      <td>North East Scotland</td>\n",
       "      <td>NaN</td>\n",
       "      <td>Aberdeen City</td>\n",
       "    </tr>\n",
       "  </tbody>\n",
       "</table>\n",
       "</div>"
      ],
      "text/plain": [
       "         site_id site_name     location_type  latitude  longitude parameter  \\\n",
       "rownames                                                                      \n",
       "1            ABD  Aberdeen  Urban Background  57.15736  -2.094278        O3   \n",
       "2            ABD  Aberdeen  Urban Background  57.15736  -2.094278        NO   \n",
       "3            ABD  Aberdeen  Urban Background  57.15736  -2.094278       NO2   \n",
       "4            ABD  Aberdeen  Urban Background  57.15736  -2.094278  NOXasNO2   \n",
       "5            ABD  Aberdeen  Urban Background  57.15736  -2.094278       SO2   \n",
       "\n",
       "                               Parameter_name  start_date    end_date  \\\n",
       "rownames                                                                \n",
       "1                                       Ozone  2003-08-01  2021-09-20   \n",
       "2                                Nitric oxide  1999-09-18  2021-09-20   \n",
       "3                            Nitrogen dioxide  1999-09-18  2021-09-20   \n",
       "4         Nitrogen oxides as nitrogen dioxide  1999-09-18  2021-09-20   \n",
       "5                             Sulphur dioxide  2001-01-01  2007-09-30   \n",
       "\n",
       "         ratified_to                 zone agglomeration local_authority  \n",
       "rownames                                                                 \n",
       "1         2021-09-20  North East Scotland           NaN   Aberdeen City  \n",
       "2         2021-09-20  North East Scotland           NaN   Aberdeen City  \n",
       "3         2021-09-20  North East Scotland           NaN   Aberdeen City  \n",
       "4         2021-09-20  North East Scotland           NaN   Aberdeen City  \n",
       "5         2007-09-30  North East Scotland           NaN   Aberdeen City  "
      ]
     },
     "execution_count": 9,
     "metadata": {},
     "output_type": "execute_result"
    }
   ],
   "source": [
    "import obsaq\n",
    "\n",
    "meta = obsaq.meta()\n",
    "site_table = meta.get_metadata('aurn')\n",
    "\n",
    "site_table.head(5)"
   ]
  },
  {
   "cell_type": "markdown",
   "metadata": {},
   "source": [
    "### Choose the stations by site_id"
   ]
  },
  {
   "cell_type": "code",
   "execution_count": 10,
   "metadata": {},
   "outputs": [
    {
     "name": "stdout",
     "output_type": "stream",
     "text": [
      "Site is selected by site_id: ABD\n"
     ]
    },
    {
     "data": {
      "text/html": [
       "<div>\n",
       "<style scoped>\n",
       "    .dataframe tbody tr th:only-of-type {\n",
       "        vertical-align: middle;\n",
       "    }\n",
       "\n",
       "    .dataframe tbody tr th {\n",
       "        vertical-align: top;\n",
       "    }\n",
       "\n",
       "    .dataframe thead th {\n",
       "        text-align: right;\n",
       "    }\n",
       "</style>\n",
       "<table border=\"1\" class=\"dataframe\">\n",
       "  <thead>\n",
       "    <tr style=\"text-align: right;\">\n",
       "      <th></th>\n",
       "      <th>site_id</th>\n",
       "      <th>site_name</th>\n",
       "      <th>location_type</th>\n",
       "      <th>latitude</th>\n",
       "      <th>longitude</th>\n",
       "      <th>parameter</th>\n",
       "      <th>Parameter_name</th>\n",
       "      <th>start_date</th>\n",
       "      <th>end_date</th>\n",
       "      <th>ratified_to</th>\n",
       "      <th>zone</th>\n",
       "      <th>agglomeration</th>\n",
       "      <th>local_authority</th>\n",
       "    </tr>\n",
       "    <tr>\n",
       "      <th>rownames</th>\n",
       "      <th></th>\n",
       "      <th></th>\n",
       "      <th></th>\n",
       "      <th></th>\n",
       "      <th></th>\n",
       "      <th></th>\n",
       "      <th></th>\n",
       "      <th></th>\n",
       "      <th></th>\n",
       "      <th></th>\n",
       "      <th></th>\n",
       "      <th></th>\n",
       "      <th></th>\n",
       "    </tr>\n",
       "  </thead>\n",
       "  <tbody>\n",
       "    <tr>\n",
       "      <th>1</th>\n",
       "      <td>ABD</td>\n",
       "      <td>Aberdeen</td>\n",
       "      <td>Urban Background</td>\n",
       "      <td>57.15736</td>\n",
       "      <td>-2.094278</td>\n",
       "      <td>O3</td>\n",
       "      <td>Ozone</td>\n",
       "      <td>2003-08-01</td>\n",
       "      <td>2021-09-20</td>\n",
       "      <td>2021-09-20</td>\n",
       "      <td>North East Scotland</td>\n",
       "      <td>NaN</td>\n",
       "      <td>Aberdeen City</td>\n",
       "    </tr>\n",
       "  </tbody>\n",
       "</table>\n",
       "</div>"
      ],
      "text/plain": [
       "         site_id site_name     location_type  latitude  longitude parameter  \\\n",
       "rownames                                                                      \n",
       "1            ABD  Aberdeen  Urban Background  57.15736  -2.094278        O3   \n",
       "\n",
       "         Parameter_name  start_date    end_date ratified_to  \\\n",
       "rownames                                                      \n",
       "1                 Ozone  2003-08-01  2021-09-20  2021-09-20   \n",
       "\n",
       "                         zone agglomeration local_authority  \n",
       "rownames                                                     \n",
       "1         North East Scotland           NaN   Aberdeen City  "
      ]
     },
     "execution_count": 10,
     "metadata": {},
     "output_type": "execute_result"
    }
   ],
   "source": [
    "final_sites = meta.get_site(site_id='ABD')\n",
    "final_sites.drop_duplicates(subset='site_id')"
   ]
  },
  {
   "cell_type": "markdown",
   "metadata": {},
   "source": [
    "### Start to download the selected station data"
   ]
  },
  {
   "cell_type": "code",
   "execution_count": 11,
   "metadata": {},
   "outputs": [
    {
     "name": "stdout",
     "output_type": "stream",
     "text": [
      "Data has downloaded successfully. URL: https://uk-air.defra.gov.uk/data_files/site_data/ABD_2010.csv\n"
     ]
    }
   ],
   "source": [
    "meta.download_sites('aurn', year=2010, output_dir='data/prep_obs_data', log=False)"
   ]
  },
  {
   "cell_type": "code",
   "execution_count": null,
   "metadata": {},
   "outputs": [],
   "source": []
  }
 ],
 "metadata": {
  "kernelspec": {
   "display_name": "py38",
   "language": "python",
   "name": "python3"
  },
  "language_info": {
   "codemirror_mode": {
    "name": "ipython",
    "version": 3
   },
   "file_extension": ".py",
   "mimetype": "text/x-python",
   "name": "python",
   "nbconvert_exporter": "python",
   "pygments_lexer": "ipython3",
   "version": "3.12.3"
  }
 },
 "nbformat": 4,
 "nbformat_minor": 2
}
